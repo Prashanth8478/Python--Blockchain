{
  "nbformat": 4,
  "nbformat_minor": 0,
  "metadata": {
    "colab": {
      "provenance": [],
      "authorship_tag": "ABX9TyOuwuW23pvUIUip8WWDac1j",
      "include_colab_link": true
    },
    "kernelspec": {
      "name": "python3",
      "display_name": "Python 3"
    },
    "language_info": {
      "name": "python"
    }
  },
  "cells": [
    {
      "cell_type": "markdown",
      "metadata": {
        "id": "view-in-github",
        "colab_type": "text"
      },
      "source": [
        "<a href=\"https://colab.research.google.com/github/Prashanth8478/Python--Blockchain/blob/main/Blockchain.ipynb\" target=\"_parent\"><img src=\"https://colab.research.google.com/assets/colab-badge.svg\" alt=\"Open In Colab\"/></a>"
      ]
    },
    {
      "cell_type": "code",
      "execution_count": 1,
      "metadata": {
        "colab": {
          "base_uri": "https://localhost:8080/"
        },
        "id": "ZUWjlxh74QLg",
        "outputId": "1016e28d-9449-4e52-f0a7-06e102780e0d"
      },
      "outputs": [
        {
          "output_type": "stream",
          "name": "stdout",
          "text": [
            "Timestamp: 1700603754.0758448\n",
            "Data: Genesis Block\n",
            "Previous Hash: 0\n",
            "Hash: b1b1764c778e3e70ed1aa9fac3420e93278f51c5f57ef68967e6e457636e5c42\n",
            "\n",
            "Timestamp: 1700603754.0760407\n",
            "Data: [{'sender': 'Alice', 'recipient': 'Bob', 'amount': 50}]\n",
            "Previous Hash: b1b1764c778e3e70ed1aa9fac3420e93278f51c5f57ef68967e6e457636e5c42\n",
            "Hash: 4fbade3075a17c1427f988d071fbd23162de8c2f974933244f2cbd71260f5275\n",
            "\n",
            "Timestamp: 1700603754.0761592\n",
            "Data: [{'sender': 'Bob', 'recipient': 'Charlie', 'amount': 25}]\n",
            "Previous Hash: 4fbade3075a17c1427f988d071fbd23162de8c2f974933244f2cbd71260f5275\n",
            "Hash: 7aa01653d940d67794c2a7b806c0d7e58a844f9cf14e25eb11ceb4f26454e1d9\n",
            "\n"
          ]
        }
      ],
      "source": [
        "import hashlib\n",
        "import time\n",
        "\n",
        "class Block:\n",
        "   def __init__(self, timestamp, data, previous_hash):\n",
        "       self.timestamp = timestamp\n",
        "       self.data = data\n",
        "       self.previous_hash = previous_hash\n",
        "       self.hash = self.calculate_hash()\n",
        "\n",
        "   def calculate_hash(self):\n",
        "       sha = hashlib.sha256()\n",
        "       hash_str = f\"{self.timestamp}{self.data}{self.previous_hash}\".encode('utf-8')\n",
        "       sha.update(hash_str)\n",
        "       return sha.hexdigest()\n",
        "\n",
        "class Blockchain:\n",
        "   def __init__(self):\n",
        "       self.chain = [self.create_genesis_block()]\n",
        "       self.unconfirmed_transactions = []\n",
        "\n",
        "   def create_genesis_block(self):\n",
        "       return Block(time.time(), \"Genesis Block\", \"0\")\n",
        "\n",
        "   def get_latest_block(self):\n",
        "       return self.chain[-1]\n",
        "\n",
        "   def add_new_transaction(self, sender, recipient, amount):\n",
        "       transaction = {\n",
        "           'sender': sender,\n",
        "           'recipient': recipient,\n",
        "           'amount': amount\n",
        "       }\n",
        "       self.unconfirmed_transactions.append(transaction)\n",
        "\n",
        "   def mine(self):\n",
        "       latest_block = self.get_latest_block()\n",
        "       new_block = Block(time.time(), self.unconfirmed_transactions, latest_block.hash)\n",
        "       self.add_block(new_block)\n",
        "       self.unconfirmed_transactions = []\n",
        "\n",
        "   def add_block(self, new_block):\n",
        "       new_block.previous_hash = self.get_latest_block().hash\n",
        "       new_block.hash = new_block.calculate_hash()\n",
        "       self.chain.append(new_block)\n",
        "\n",
        "class Client:\n",
        "   def __init__(self, blockchain):\n",
        "       self.blockchain = blockchain\n",
        "\n",
        "   def add_new_transaction(self, sender, recipient, amount):\n",
        "       self.blockchain.add_new_transaction(sender, recipient, amount)\n",
        "\n",
        "   def mine(self):\n",
        "       self.blockchain.mine()\n",
        "\n",
        "# Create a new blockchain\n",
        "blockchain = Blockchain()\n",
        "\n",
        "# Create a new client\n",
        "client = Client(blockchain)\n",
        "\n",
        "# Add a new transaction to the blockchain\n",
        "client.add_new_transaction(\"Alice\", \"Bob\", 50)\n",
        "\n",
        "# Mine a new block\n",
        "client.mine()\n",
        "\n",
        "# Add another transaction\n",
        "client.add_new_transaction(\"Bob\", \"Charlie\", 25)\n",
        "\n",
        "# Mine another block\n",
        "client.mine()\n",
        "\n",
        "# Print the blockchain\n",
        "for block in blockchain.chain:\n",
        "   print(f\"Timestamp: {block.timestamp}\")\n",
        "   print(f\"Data: {block.data}\")\n",
        "   print(f\"Previous Hash: {block.previous_hash}\")\n",
        "   print(f\"Hash: {block.hash}\\n\")"
      ]
    }
  ]
}